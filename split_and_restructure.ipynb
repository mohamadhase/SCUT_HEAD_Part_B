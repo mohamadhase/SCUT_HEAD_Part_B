{
 "cells": [
  {
   "cell_type": "code",
   "execution_count": 3,
   "metadata": {},
   "outputs": [],
   "source": [
    "import os\n",
    "import shutil\n",
    "\n",
    "def copy_files(source_folder, destination_folder, file_base_names, file_extension):\n",
    "    for file_base_name in file_base_names:\n",
    "        # Source and destination paths\n",
    "        source_path = os.path.join(source_folder, file_base_name + file_extension)\n",
    "        destination_path = os.path.join(destination_folder, file_base_name + file_extension)\n",
    "\n",
    "        # Copy files\n",
    "        shutil.copy(source_path, destination_path)\n",
    "\n",
    "# Paths\n",
    "images_folder = \"images\"\n",
    "labels_folder = \"labels\"\n",
    "train_folder = \"train\"\n",
    "val_folder = \"val\"\n",
    "test_folder = \"test\"\n",
    "train_txt_file = \"train.txt\"\n",
    "val_txt_file = \"val.txt\"\n",
    "test_txt_file = \"test.txt\"\n",
    "\n",
    "# Create train, val, and test subfolders if they don't exist\n",
    "train_images_folder = os.path.join(train_folder, \"images\")\n",
    "train_labels_folder = os.path.join(train_folder, \"labels\")\n",
    "val_images_folder = os.path.join(val_folder, \"images\")\n",
    "val_labels_folder = os.path.join(val_folder, \"labels\")\n",
    "test_images_folder = os.path.join(test_folder, \"images\")\n",
    "test_labels_folder = os.path.join(test_folder, \"labels\")\n",
    "os.makedirs(train_images_folder, exist_ok=True)\n",
    "os.makedirs(train_labels_folder, exist_ok=True)\n",
    "os.makedirs(val_images_folder, exist_ok=True)\n",
    "os.makedirs(val_labels_folder, exist_ok=True)\n",
    "os.makedirs(test_images_folder, exist_ok=True)\n",
    "os.makedirs(test_labels_folder, exist_ok=True)\n"
   ]
  },
  {
   "cell_type": "code",
   "execution_count": 4,
   "metadata": {},
   "outputs": [
    {
     "name": "stdout",
     "output_type": "stream",
     "text": [
      "Files copied successfully for train, val, and test sets.\n"
     ]
    }
   ],
   "source": [
    "\n",
    "# Read train.txt, val.txt, and test.txt files\n",
    "with open(train_txt_file, \"r\") as file:\n",
    "    train_files = file.read().splitlines()\n",
    "\n",
    "with open(val_txt_file, \"r\") as file:\n",
    "    val_files = file.read().splitlines()\n",
    "\n",
    "with open(test_txt_file, \"r\") as file:\n",
    "    test_files = file.read().splitlines()\n",
    "\n",
    "# Copy files for train, val, and test sets\n",
    "copy_files(images_folder, train_images_folder, train_files, \".jpg\")\n",
    "copy_files(labels_folder, train_labels_folder, train_files, \".txt\")\n",
    "copy_files(images_folder, val_images_folder, val_files, \".jpg\")\n",
    "copy_files(labels_folder, val_labels_folder, val_files, \".txt\")\n",
    "copy_files(images_folder, test_images_folder, test_files, \".jpg\")\n",
    "copy_files(labels_folder, test_labels_folder, test_files, \".txt\")\n",
    "\n",
    "print(\"Files copied successfully for train, val, and test sets.\")\n"
   ]
  },
  {
   "cell_type": "code",
   "execution_count": 1,
   "metadata": {},
   "outputs": [],
   "source": [
    "import os\n",
    "import fileinput\n",
    "\n",
    "def update_person_to_zero(file_path):\n",
    "    with fileinput.FileInput(file_path, inplace=True) as file:\n",
    "        for line in file:\n",
    "            print(line.replace(\"person\", \"0\", 1), end='')\n",
    "\n",
    "def process_txt_files(root_dir):\n",
    "    for foldername, subfolders, filenames in os.walk(root_dir):\n",
    "        for filename in filenames:\n",
    "            if filename.endswith(\".txt\"):\n",
    "                file_path = os.path.join(foldername, filename)\n",
    "                update_person_to_zero(file_path)\n",
    "\n",
    "# Specify the root directory where you want to start searching for .txt files\n",
    "root_directory = \".\"\n",
    "\n",
    "process_txt_files(root_directory)\n"
   ]
  },
  {
   "cell_type": "code",
   "execution_count": null,
   "metadata": {},
   "outputs": [],
   "source": []
  }
 ],
 "metadata": {
  "kernelspec": {
   "display_name": "pytorch",
   "language": "python",
   "name": "python3"
  },
  "language_info": {
   "codemirror_mode": {
    "name": "ipython",
    "version": 3
   },
   "file_extension": ".py",
   "mimetype": "text/x-python",
   "name": "python",
   "nbconvert_exporter": "python",
   "pygments_lexer": "ipython3",
   "version": "3.7.12"
  }
 },
 "nbformat": 4,
 "nbformat_minor": 2
}
